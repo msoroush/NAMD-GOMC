{
 "cells": [
  {
   "cell_type": "markdown",
   "metadata": {},
   "source": [
    "# Import and create the molecules and their force field"
   ]
  },
  {
   "cell_type": "code",
   "execution_count": 1,
   "metadata": {
    "scrolled": true
   },
   "outputs": [
    {
     "name": "stderr",
     "output_type": "stream",
     "text": [
      "/home/brad/Programs/anaconda3/lib/python3.7/site-packages/foyer/forcefield.py:457: UserWarning: Non-atomistic element type detected. Creating custom element for _CH4\n",
      "  'Creating custom element for {}'.format(element))\n",
      "/home/brad/Programs/anaconda3/lib/python3.7/site-packages/foyer/forcefield.py:457: UserWarning: Non-atomistic element type detected. Creating custom element for _CH3\n",
      "  'Creating custom element for {}'.format(element))\n",
      "/home/brad/Programs/anaconda3/lib/python3.7/site-packages/foyer/forcefield.py:457: UserWarning: Non-atomistic element type detected. Creating custom element for _CH2\n",
      "  'Creating custom element for {}'.format(element))\n",
      "/home/brad/Programs/anaconda3/lib/python3.7/site-packages/foyer/forcefield.py:457: UserWarning: Non-atomistic element type detected. Creating custom element for _HC\n",
      "  'Creating custom element for {}'.format(element))\n",
      "/home/brad/Programs/anaconda3/lib/python3.7/site-packages/foyer/forcefield.py:433: UserWarning: No force field version number found in force field XML file.\n",
      "  'No force field version number found in force field XML file.'\n",
      "/home/brad/Programs/anaconda3/lib/python3.7/site-packages/foyer/forcefield.py:445: UserWarning: No force field name found in force field XML file.\n",
      "  'No force field name found in force field XML file.'\n"
     ]
    }
   ],
   "source": [
    "import mbuild as mb\n",
    "from foyer import Forcefield\n",
    "import parmed as pmd\n",
    "import os\n",
    "import files.generate_sim_boxes as generate_sim_boxes\n",
    "\n",
    "TrappeFF_location = 'files/trappe-ua.xml'\n",
    "\n",
    "\n",
    "TrappeFF =  Forcefield(forcefield_files=TrappeFF_location)\n",
    "\n",
    "Molecule_A = mb.load('files/iso_octane.mol2')\n",
    "Molecule_A.name = 'cmA'\n",
    "\n",
    "\n",
    "\n",
    "Molecule_B =mb.load('files/n_decane.mol2')   \n",
    "Molecule_B.name = 'cmB'\n",
    "\n",
    "\n"
   ]
  },
  {
   "cell_type": "markdown",
   "metadata": {},
   "source": [
    "# This section builds the liquid and vapor boxes psf/pdb files, and creates the parameter files need to run GOMC.\n",
    "# The data concentrations and parameters are also printed out in a text file for later use. \n",
    "# The required data is entered in the top section.  "
   ]
  },
  {
   "cell_type": "code",
   "execution_count": 5,
   "metadata": {
    "scrolled": true
   },
   "outputs": [
    {
     "name": "stdout",
     "output_type": "stream",
     "text": [
      "-----------------------------------\n",
      "Molecule_Type_List_Length = 2\n",
      "Molecule_mol_Fraction_Length = 2\n",
      "No_atoms_for_Molecules_List = [8]\n",
      "No_molecules_in_liq_List = [41]\n",
      "No_molecules_in_vap_List = [4]\n",
      "No_atoms_for_Molecules_List = [8, 10]\n",
      "No_molecules_in_liq_List = [41, 27]\n",
      "No_molecules_in_vap_List = [4, 2]\n",
      "side_length_cubic_box_liq (nm)= 3.347225198912309\n",
      "side_length_cubic_box_vap (nm) = 7.349604207872798\n",
      "-----------------------------------\n",
      "approx_total_No_atoms_liq= 2000\n",
      "approx_total_No_atoms_per_cg_atom= 3.25\n",
      "-----------------------------------\n",
      "fraction_Molecule_0 overall (desired) = 0.6\n",
      "fraction_Molecule_0 overall (actual) = 0.6081081081081081\n",
      "fraction_Molecule_0_liq (actual) = 0.6029411764705882\n",
      "\n",
      "fraction_Molecule_0_vap (actual) = 0.6666666666666666\n",
      "\n",
      "-----------------------------------\n",
      "fraction_Molecule_1 overall (desired) = 0.4\n",
      "fraction_Molecule_1 overall (actual) = 0.3918918918918919\n",
      "fraction_Molecule_1_liq (actual) = 0.39705882352941174\n",
      "\n",
      "fraction_Molecule_1_vap (actual) = 0.3333333333333333\n",
      "\n",
      "-----------------------------------\n",
      "compound to parmed\n",
      "compound to parmed\n",
      "compound to parmed\n",
      "compound to parmed\n"
     ]
    },
    {
     "name": "stderr",
     "output_type": "stream",
     "text": [
      "/home/brad/Programs/anaconda3/lib/python3.7/site-packages/mbuild/compound.py:2541: UserWarning: Guessing that \"<_CH3 pos=( 2.0038, 0.7982, 2.4738), 0 bonds, id: 140551189549392>\" is element: \"EP\"\n",
      "  atom, element))\n",
      "/home/brad/Programs/anaconda3/lib/python3.7/site-packages/mbuild/compound.py:2541: UserWarning: Guessing that \"<_HC pos=( 2.3449, 0.6003, 2.5004), 0 bonds, id: 140551192079952>\" is element: \"EP\"\n",
      "  atom, element))\n",
      "/home/brad/Programs/anaconda3/lib/python3.7/site-packages/mbuild/compound.py:2541: UserWarning: Guessing that \"<_CH3 pos=( 5.0556, 5.4486, 1.0782), 0 bonds, id: 140551182595536>\" is element: \"EP\"\n",
      "  atom, element))\n",
      "/home/brad/Programs/anaconda3/lib/python3.7/site-packages/mbuild/compound.py:2541: UserWarning: Guessing that \"<_HC pos=( 4.8899, 5.8068, 1.0992), 0 bonds, id: 140551182597776>\" is element: \"EP\"\n",
      "  atom, element))\n"
     ]
    },
    {
     "name": "stdout",
     "output_type": "stream",
     "text": [
      "Running: liquid phase box packing, pdf, psf, and parameter generator\n",
      "\n",
      "\n",
      "\n",
      "location 1\n",
      "location 2\n",
      "location 2.1\n",
      "location 2.2\n",
      "location 3\n",
      "location 4\n",
      "location 4\n",
      "\n",
      "\n",
      "\n",
      "gomc_psf file is running\n",
      "No urey bradley terms detected\n",
      "RB Torsions detected, will converted to CHARMM Dihedrals\n",
      "\n",
      "\n",
      "\n",
      "No urey bradley terms detected, will use angle_style harmonic\n",
      "RB Torsions detected, will use dihedral_style opls\n",
      "\n",
      "\n",
      "\n",
      "write_gomcdata file is running\n",
      "forcefield type from compound = ['files/trappe-ua.xml']\n",
      "coulomb14scale from compound = 0.0\n",
      "lj14scale from compound = 0.0\n",
      "No urey bradley terms detected, will use angle_style harmonic\n",
      "RB Torsions detected, will use dihedral_style opls\n",
      "\n",
      "\n",
      "\n",
      "! RB-torsion to CHARMM dihedral conversion error is OK [error <= 10^(-10)]\n",
      "! Maximum( |(RB-torsion calc)-(CHARMM dihedral calc)| ) =  1.3322676295501878e-14\n",
      "\n",
      "NBFIX_Mixing not used or no mixing used for the non-bonded potentials out\n",
      "\n",
      "Completed: Liquid phase box packing, pdf, psf, and parameter generator \n",
      "Running: vapor phase box packing, pdf, psf, and parameter generator\n",
      "\n",
      "\n",
      "\n",
      "location 1\n",
      "location 2\n",
      "location 2.1\n",
      "location 2.2\n",
      "location 3\n",
      "location 4\n",
      "location 4\n",
      "\n",
      "\n",
      "\n",
      "gomc_psf file is running\n",
      "No urey bradley terms detected\n",
      "RB Torsions detected, will converted to CHARMM Dihedrals\n",
      "\n",
      "\n",
      "\n",
      "No urey bradley terms detected, will use angle_style harmonic\n",
      "RB Torsions detected, will use dihedral_style opls\n",
      "\n",
      "\n",
      "\n",
      "write_gomcdata file is running\n",
      "forcefield type from compound = ['files/trappe-ua.xml']\n",
      "coulomb14scale from compound = 0.0\n",
      "lj14scale from compound = 0.0\n",
      "No urey bradley terms detected, will use angle_style harmonic\n",
      "RB Torsions detected, will use dihedral_style opls\n",
      "\n",
      "\n",
      "\n",
      "! RB-torsion to CHARMM dihedral conversion error is OK [error <= 10^(-10)]\n",
      "! Maximum( |(RB-torsion calc)-(CHARMM dihedral calc)| ) =  1.3322676295501878e-14\n",
      "\n",
      "NBFIX_Mixing not used or no mixing used for the non-bonded potentials out\n",
      "\n",
      "Completed: vapor phase box packing, pdf, psf, and parameter generator \n"
     ]
    }
   ],
   "source": [
    "filename_box_info_BC = 'Example_Box_Generator' # no extention\n",
    "approx_total_No_atoms_liq_BC = 2000\n",
    "approx_total_No_atoms_per_cg_atom_BC = 3.25    # 1 for AA and ~3.0 to 3.5 for UA.\n",
    "min_atom_spacing_BC = 0.3\n",
    "vol_vap_div_vol_liq_BC = 10\n",
    "molecules_vap_div_molecules_liq_BC = 0.1\n",
    "random_seed_No_BC = 12345\n",
    "combining_rules = 'lorentz'\n",
    "\n",
    "mol_fraction_Molecule_A = 0.6\n",
    "mol_fraction_Molecule_B = 0.4\n",
    "\n",
    "GOMC_fix_residue_type_BC = [Molecule_B.name]\n",
    "GOMC_fix_residue_in_box_BC = [Molecule_A.name]\n",
    "\n",
    "Molecule_Type_List_BC = [Molecule_A, Molecule_B]\n",
    "Molecule_mol_Fraction_List_BC = [mol_fraction_Molecule_A, mol_fraction_Molecule_B]\n",
    "Molecule_ResName_List_BC = [Molecule_A.name, Molecule_B.name ]\n",
    "\n",
    "\n",
    "\n",
    "generate_sim_boxes.Gen_Liq_and_Vap_Boxes(filename_box_info = filename_box_info_BC,\n",
    "                                         Molecule_Type_List = Molecule_Type_List_BC,\n",
    "                                         Molecule_mol_Fraction_List= Molecule_mol_Fraction_List_BC,\n",
    "                                         Molecule_ResName_List = Molecule_ResName_List_BC,\n",
    "                                         forcefield_file_to_use =[TrappeFF_location],\n",
    "                                         approx_total_No_atoms_liq=approx_total_No_atoms_liq_BC,\n",
    "                                         approx_total_No_atoms_per_cg_atom=approx_total_No_atoms_per_cg_atom_BC,\n",
    "                                         min_atom_spacing =min_atom_spacing_BC,\n",
    "                                         vol_vap_div_vol_liq = vol_vap_div_vol_liq_BC,\n",
    "                                         molecules_vap_div_molecules_liq = molecules_vap_div_molecules_liq_BC,\n",
    "                                         random_seed_No = random_seed_No_BC,\n",
    "                                         combining_rules=combining_rules,\n",
    "                                         GOMC_fix_residue = GOMC_fix_residue_type_BC,\n",
    "                                         GOMC_fix_residue_in_box = GOMC_fix_residue_in_box_BC,\n",
    "                                        )\n",
    "#Molecule_ResName_List = Molecule_ResName_List_BC,"
   ]
  },
  {
   "cell_type": "code",
   "execution_count": null,
   "metadata": {},
   "outputs": [],
   "source": []
  },
  {
   "cell_type": "code",
   "execution_count": null,
   "metadata": {},
   "outputs": [],
   "source": []
  },
  {
   "cell_type": "code",
   "execution_count": null,
   "metadata": {},
   "outputs": [],
   "source": []
  },
  {
   "cell_type": "code",
   "execution_count": null,
   "metadata": {},
   "outputs": [],
   "source": []
  }
 ],
 "metadata": {
  "kernelspec": {
   "display_name": "Python 3",
   "language": "python",
   "name": "python3"
  },
  "language_info": {
   "codemirror_mode": {
    "name": "ipython",
    "version": 3
   },
   "file_extension": ".py",
   "mimetype": "text/x-python",
   "name": "python",
   "nbconvert_exporter": "python",
   "pygments_lexer": "ipython3",
   "version": "3.7.6"
  }
 },
 "nbformat": 4,
 "nbformat_minor": 4
}
